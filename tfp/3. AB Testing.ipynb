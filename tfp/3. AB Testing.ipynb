{
 "cells": [
  {
   "cell_type": "markdown",
   "metadata": {},
   "source": [
    "# Bayesian A/B Testing"
   ]
  },
  {
   "cell_type": "code",
   "execution_count": 1,
   "metadata": {},
   "outputs": [],
   "source": [
    "import numpy as np\n",
    "import matplotlib.pyplot as plt\n",
    "plt.style.use('ggplot')"
   ]
  },
  {
   "cell_type": "code",
   "execution_count": 2,
   "metadata": {},
   "outputs": [],
   "source": [
    "import tensorflow as tf\n",
    "import tensorflow_probability as tfp\n",
    "tfd = tfp.distributions\n",
    "tfb = tfp.bijectors"
   ]
  },
  {
   "cell_type": "code",
   "execution_count": 3,
   "metadata": {},
   "outputs": [],
   "source": [
    "def evaluate(tensors):\n",
    "    if tf.executing_eagerly():\n",
    "        return tf.nest.pack_sequence_as(\n",
    "            tensors,\n",
    "            [t.numpy() if tf.is_tensor(t) else t\n",
    "             for t in tf.nest.flatten(tensors)])\n",
    "    return sess.run(tensors)"
   ]
  },
  {
   "cell_type": "markdown",
   "metadata": {},
   "source": [
    "## Simulate purchases with $p_A = 0.05$"
   ]
  },
  {
   "cell_type": "code",
   "execution_count": 16,
   "metadata": {},
   "outputs": [
    {
     "name": "stdout",
     "output_type": "stream",
     "text": [
      "Simulated Purchases:  [0 0 0 ... 0 0 0]\n",
      "Total #Purchases:  88\n",
      "Observed Frequency:  0.058666665\n"
     ]
    }
   ],
   "source": [
    "p_A = 0.05\n",
    "N = 1500\n",
    "obs = tfd.Bernoulli(probs=p_A).sample(sample_shape=N, seed=10)\n",
    "obs_sum = tf.reduce_sum(obs)\n",
    "obs_mean = tf.reduce_mean(tf.cast(obs, tf.float32))\n",
    "\n",
    "[ obs_, obs_sum_, obs_mean_ ] = evaluate([\n",
    "    obs, obs_sum, obs_mean\n",
    "])\n",
    "\n",
    "print('Simulated Purchases: ', obs_)\n",
    "print('Total #Purchases: ', obs_sum_)\n",
    "print('Observed Frequency: ', obs_mean_)"
   ]
  },
  {
   "cell_type": "code",
   "execution_count": 17,
   "metadata": {},
   "outputs": [],
   "source": [
    "def joint_log_prob(obs, p_A):\n",
    "    var_p_A = tfd.Uniform(low=0., high=1.)\n",
    "    var_obs = tfd.Bernoulli(probs=p_A)\n",
    "    return (\n",
    "        var_p_A.log_prob(p_A)\n",
    "        + tf.reduce_sum(var_obs.log_prob(obs))\n",
    "    )"
   ]
  },
  {
   "cell_type": "markdown",
   "metadata": {},
   "source": [
    "## Inference"
   ]
  },
  {
   "cell_type": "code",
   "execution_count": 27,
   "metadata": {},
   "outputs": [
    {
     "name": "stderr",
     "output_type": "stream",
     "text": [
      "/usr/local/lib/python3.6/dist-packages/tensorflow_probability/python/mcmc/internal/util.py:581: UserWarning: `step_size` is not a `tf.Tensor`, Python number, or Numpy array. If this parameter is mutable (e.g., a `tf.Variable`), then the behavior implied by `store_parameters_in_results` will silently change on 2019-08-01. Please consult the docstring for `store_parameters_in_results` details and use `store_parameters_in_results=True` to silence this warning.\n",
      "  param_name))\n"
     ]
    }
   ],
   "source": [
    "nsteps = 25000\n",
    "burn_in = nsteps // 2\n",
    "initial_chain_state = [\n",
    "    tf.reduce_mean(tf.cast(obs, tf.float32))\n",
    "    * tf.ones([], dtype=tf.float32, name='init_p_A')\n",
    "]\n",
    "# bijectors\n",
    "bijectors = [ tfb.Identity() ]\n",
    "\n",
    "# log-prob\n",
    "log_prob = lambda *args: joint_log_prob(obs, *args)\n",
    "\n",
    "# step size\n",
    "step_size = tf.Variable(0.5, name='step_size', trainable=False)\n",
    "\n",
    "# hmc kernel\n",
    "hmc=tfp.mcmc.TransformedTransitionKernel(\n",
    "    inner_kernel=tfp.mcmc.HamiltonianMonteCarlo(\n",
    "        target_log_prob_fn=log_prob,\n",
    "        step_size=step_size, num_leapfrog_steps=2,\n",
    "        step_size_update_fn=tfp.mcmc.make_simple_step_size_update_policy(num_adaptation_steps=int(burn_in * 0.8)),\n",
    "        state_gradients_are_stopped=True),\n",
    "    bijector=bijectors\n",
    ")"
   ]
  },
  {
   "cell_type": "code",
   "execution_count": 28,
   "metadata": {},
   "outputs": [
    {
     "name": "stderr",
     "output_type": "stream",
     "text": [
      "/usr/local/lib/python3.6/dist-packages/tensorflow_probability/python/mcmc/sample.py:338: UserWarning: Tracing all kernel results by default is deprecated. Set the `trace_fn` argument to None (the future default value) or an explicit callback that traces the values you are interested in.\n",
      "  warnings.warn('Tracing all kernel results by default is deprecated. Set '\n"
     ]
    }
   ],
   "source": [
    "# Sampling from the chain.\n",
    "[ post_p_A ], kernel_results = tfp.mcmc.sample_chain(\n",
    "    num_results=nsteps,\n",
    "    num_burnin_steps=burn_in,\n",
    "    current_state=initial_chain_state,\n",
    "    kernel=hmc\n",
    ")"
   ]
  },
  {
   "cell_type": "code",
   "execution_count": 29,
   "metadata": {},
   "outputs": [],
   "source": [
    "[ post_p_A_, kernel_results_ ] = evaluate([\n",
    "    post_p_A, kernel_results\n",
    "])"
   ]
  },
  {
   "cell_type": "code",
   "execution_count": 30,
   "metadata": {},
   "outputs": [
    {
     "data": {
      "text/plain": [
       "(array([4.000e+00, 9.000e+00, 4.000e+01, 6.700e+01, 1.940e+02, 4.020e+02,\n",
       "        6.820e+02, 9.550e+02, 1.212e+03, 1.458e+03, 1.583e+03, 1.545e+03,\n",
       "        1.292e+03, 1.020e+03, 7.270e+02, 5.610e+02, 3.530e+02, 1.810e+02,\n",
       "        1.400e+02, 4.500e+01, 1.100e+01, 7.000e+00, 9.000e+00, 1.000e+00,\n",
       "        2.000e+00]),\n",
       " array([0.03836779, 0.04029883, 0.04222987, 0.04416091, 0.04609195,\n",
       "        0.04802299, 0.04995403, 0.05188507, 0.05381611, 0.05574715,\n",
       "        0.05767819, 0.05960923, 0.06154026, 0.0634713 , 0.06540234,\n",
       "        0.06733339, 0.06926443, 0.07119546, 0.0731265 , 0.07505754,\n",
       "        0.07698858, 0.07891962, 0.08085066, 0.0827817 , 0.08471274,\n",
       "        0.08664378], dtype=float32),\n",
       " [<matplotlib.patches.Polygon at 0x7f8c1200e898>])"
      ]
     },
     "execution_count": 30,
     "metadata": {},
     "output_type": "execute_result"
    },
    {
     "data": {
      "image/png": "[encoded data removed]",
      "text/plain": [
       "<Figure size 900x288 with 1 Axes>"
      ]
     },
     "metadata": {},
     "output_type": "display_data"
    }
   ],
   "source": [
    "plt.figure(figsize=(12.5, 4))\n",
    "#plt.vlines(p_A, 0, 90, linestyle='--')\n",
    "plt.hist(post_p_A_[burn_in:], bins=25, histtype='stepfilled') #, normed=True)"
   ]
  },
  {
   "cell_type": "markdown",
   "metadata": {},
   "source": [
    "## A and B Together"
   ]
  },
  {
   "cell_type": "code",
   "execution_count": 35,
   "metadata": {},
   "outputs": [
    {
     "name": "stdout",
     "output_type": "stream",
     "text": [
      "Observations from Site A:  [0 0 0 0 0 0 0 1 0 0 0 0 0 0 0 0 0 1 0 0] ...\n",
      "Observed p(A):  0.05733333333333333\n",
      "Observations from Site B:  [0 0 0 0 0 0 0 0 0 0 0 0 0 0 0 0 0 0 0 0] ...\n",
      "Observed p(B):  0.044\n"
     ]
    }
   ],
   "source": [
    "true_p_A = 0.05\n",
    "true_p_B = 0.04\n",
    "N_A = 1500\n",
    "N_B = 750\n",
    "\n",
    "obs_A = tfd.Bernoulli(name='obs_A', probs=true_p_A).sample(N_A, seed=645)\n",
    "obs_B = tfd.Bernoulli(name='obs_B', probs=true_p_B).sample(N_B, seed=645)\n",
    "[ obs_A_, obs_B_ ] = evaluate([\n",
    "    obs_A, obs_B\n",
    "])\n",
    "\n",
    "print('Observations from Site A: ', obs_A_[:20], '...')\n",
    "print('Observed p(A): ', obs_A_.mean())\n",
    "print('Observations from Site B: ', obs_B_[:20], '...')\n",
    "print('Observed p(B): ', obs_B_.mean())"
   ]
  },
  {
   "cell_type": "code",
   "execution_count": 36,
   "metadata": {},
   "outputs": [],
   "source": [
    "def delta(p_A, p_B):\n",
    "    return p_A - p_B\n",
    "\n",
    "def join_log_prob_AB(obs_A, obs_B, p_A, p_B):\n",
    "    var_p_A = tfd.Uniform(low=0., high=1.)\n",
    "    var_p_B = tfd.Uniform(low=0., high=1.)\n",
    "    var_obs_A = tfd.Bernoulli(probs=p_A)\n",
    "    var_obs_B = tfd.Bernoulli(probs=p_B)\n",
    "    \n",
    "    return (\n",
    "        var_p_A.log_prob(p_A)\n",
    "        + var_p_B.log_prob(p_B)\n",
    "        + tf.reduce_sum(var_obs_A.log_prob(obs_A))\n",
    "        + tf.reduce_sum(var_obs_B.log_prob(obs_B))\n",
    "    )"
   ]
  },
  {
   "cell_type": "code",
   "execution_count": 39,
   "metadata": {},
   "outputs": [
    {
     "name": "stderr",
     "output_type": "stream",
     "text": [
      "/usr/local/lib/python3.6/dist-packages/tensorflow_probability/python/mcmc/internal/util.py:581: UserWarning: `step_size` is not a `tf.Tensor`, Python number, or Numpy array. If this parameter is mutable (e.g., a `tf.Variable`), then the behavior implied by `store_parameters_in_results` will silently change on 2019-08-01. Please consult the docstring for `store_parameters_in_results` details and use `store_parameters_in_results=True` to silence this warning.\n",
      "  param_name))\n"
     ]
    }
   ],
   "source": [
    "nsteps = 37200\n",
    "burn_in = 1000\n",
    "\n",
    "initial_chain_state = [\n",
    "    tf.reduce_mean(tf.cast(obs_A, tf.float32))\n",
    "    * tf.ones([], dtype=tf.float32, name='init_p_A'),\n",
    "    tf.reduce_mean(tf.cast(obs_B, tf.float32))\n",
    "    * tf.ones([], dtype=tf.float32, name='init_p_B')\n",
    "]\n",
    "\n",
    "bijectors = [ tfb.Identity(), tfb.Identity() ]\n",
    "\n",
    "log_prob_AB = lambda *args: join_log_prob_AB(obs_A, obs_B, *args)\n",
    "\n",
    "# step size\n",
    "step_size = tf.Variable(0.5, name='step_size', trainable=False)\n",
    "\n",
    "# hmc kernel\n",
    "hmc=tfp.mcmc.TransformedTransitionKernel(\n",
    "    inner_kernel=tfp.mcmc.HamiltonianMonteCarlo(\n",
    "        target_log_prob_fn=log_prob_AB,\n",
    "        step_size=step_size, num_leapfrog_steps=3,\n",
    "        step_size_update_fn=tfp.mcmc.make_simple_step_size_update_policy(num_adaptation_steps=int(burn_in * 0.8)),\n",
    "        state_gradients_are_stopped=True),\n",
    "    bijector=bijectors\n",
    ")"
   ]
  },
  {
   "cell_type": "code",
   "execution_count": 40,
   "metadata": {},
   "outputs": [
    {
     "name": "stderr",
     "output_type": "stream",
     "text": [
      "/usr/local/lib/python3.6/dist-packages/tensorflow_probability/python/mcmc/sample.py:338: UserWarning: Tracing all kernel results by default is deprecated. Set the `trace_fn` argument to None (the future default value) or an explicit callback that traces the values you are interested in.\n",
      "  warnings.warn('Tracing all kernel results by default is deprecated. Set '\n"
     ]
    }
   ],
   "source": [
    "[ post_p_A, post_p_B ], kernel_results = tfp.mcmc.sample_chain(\n",
    "    num_results=nsteps, num_burnin_steps=burn_in,\n",
    "    current_state=initial_chain_state, kernel=hmc\n",
    ")"
   ]
  },
  {
   "cell_type": "code",
   "execution_count": 49,
   "metadata": {},
   "outputs": [
    {
     "data": {
      "image/png": "[encoded data removed]",
      "text/plain": [
       "<Figure size 900x900 with 3 Axes>"
      ]
     },
     "metadata": {},
     "output_type": "display_data"
    }
   ],
   "source": [
    "[ post_p_A_, post_p_B_, kernel_results_ ] = evaluate([\n",
    "    post_p_A, post_p_B, kernel_results \n",
    "])\n",
    "\n",
    "\n",
    "plt.figure(figsize=(12.5, 12.5))\n",
    "\n",
    "#histogram of posteriors\n",
    "\n",
    "ax = plt.subplot(311)\n",
    "\n",
    "plt.xlim(0, .1)\n",
    "plt.hist(post_p_A_[burn_in:], histtype='stepfilled', bins=25, alpha=0.85,\n",
    "         label=\"posterior of $p_A$\", density=True)\n",
    "plt.vlines(true_p_A, 0, 80, linestyle=\"--\", label=\"true $p_A$ (unknown)\", color='black')\n",
    "plt.legend(loc=\"upper right\")\n",
    "plt.title(\"Posterior distributions of $p_A$, $p_B$, and delta unknowns\")\n",
    "\n",
    "ax = plt.subplot(312)\n",
    "\n",
    "plt.xlim(0, .1)\n",
    "plt.hist(post_p_B_[burn_in:], histtype='stepfilled', bins=25, alpha=0.85,\n",
    "         label=\"posterior of $p_B$\", color='green', density=True)\n",
    "plt.vlines(true_p_B, 0, 80, linestyle=\"--\", label=\"true $p_B$ (unknown)\", color='black')\n",
    "plt.legend(loc=\"upper right\")\n",
    "\n",
    "ax = plt.subplot(313)\n",
    "plt.hist((post_p_A_ - post_p_B_)[burn_in:], histtype='stepfilled', bins=30, alpha=0.85,\n",
    "         label=\"posterior of delta\", color='purple', density=True)\n",
    "plt.vlines(true_p_A - true_p_B, 0, 60, linestyle=\"--\", color='black',\n",
    "           label=\"true delta (unknown)\")\n",
    "plt.vlines(0, 0, 60, color=\"black\", alpha=0.2)\n",
    "plt.legend(loc=\"upper right\");"
   ]
  }
 ],
 "metadata": {
  "kernelspec": {
   "display_name": "Python 3",
   "language": "python",
   "name": "python3"
  },
  "language_info": {
   "codemirror_mode": {
    "name": "ipython",
    "version": 3
   },
   "file_extension": ".py",
   "mimetype": "text/x-python",
   "name": "python",
   "nbconvert_exporter": "python",
   "pygments_lexer": "ipython3",
   "version": "3.8.5"
  }
 },
 "nbformat": 4,
 "nbformat_minor": 4
}
