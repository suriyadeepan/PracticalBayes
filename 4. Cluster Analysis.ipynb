{
 "cells": [
  {
   "cell_type": "markdown",
   "metadata": {},
   "source": [
    "# Bayesian Cluster Analysis"
   ]
  },
  {
   "cell_type": "code",
   "execution_count": 6,
   "metadata": {},
   "outputs": [],
   "source": [
    "import numpy as np\n",
    "import matplotlib.pyplot as plt\n",
    "plt.style.use('ggplot')"
   ]
  },
  {
   "cell_type": "code",
   "execution_count": 2,
   "metadata": {},
   "outputs": [
    {
     "data": {
      "text/plain": [
       "'mixture_data.csv'"
      ]
     },
     "execution_count": 2,
     "metadata": {},
     "output_type": "execute_result"
    }
   ],
   "source": [
    "import wget\n",
    "url = 'https://raw.githubusercontent.com/CamDavidsonPilon/Probabilistic-Programming-and-Bayesian-Methods-for-Hackers/master/Chapter3_MCMC/data/mixture_data.csv'\n",
    "filename = wget.download(url)\n",
    "filename"
   ]
  },
  {
   "cell_type": "markdown",
   "metadata": {},
   "source": [
    "## Eager Execution"
   ]
  },
  {
   "cell_type": "code",
   "execution_count": 38,
   "metadata": {},
   "outputs": [],
   "source": [
    "def evaluate(tensors):\n",
    "    if tf.executing_eagerly():\n",
    "        return tf.nest.pack_sequence_as(\n",
    "            tensors,\n",
    "            [t.numpy() if tf.is_tensor(t) else t\n",
    "             for t in tf.nest.flatten(tensors)])\n",
    "    return sess.run(tensors)"
   ]
  },
  {
   "cell_type": "code",
   "execution_count": 7,
   "metadata": {},
   "outputs": [
    {
     "name": "stdout",
     "output_type": "stream",
     "text": [
      "[115.85679142 152.26153716 178.87449059 162.93500815 107.02820697\n",
      " 105.19141146 118.38288501 125.3769803  102.88054011 206.71326136] ...\n"
     ]
    },
    {
     "data": {
      "image/png": "[encoded data removed]",
      "text/plain": [
       "<Figure size 900x432 with 1 Axes>"
      ]
     },
     "metadata": {},
     "output_type": "display_data"
    }
   ],
   "source": [
    "plt.figure(figsize=(12.5, 6))\n",
    "data_ = np.loadtxt(\"mixture_data.csv\", delimiter=\",\")\n",
    "\n",
    "plt.hist(data_, bins=20, color=\"k\", histtype=\"stepfilled\", alpha=0.8)\n",
    "plt.title(\"Histogram of the dataset\")\n",
    "plt.ylim([0, None]);\n",
    "print(data_[:10], \"...\")"
   ]
  },
  {
   "cell_type": "code",
   "execution_count": 11,
   "metadata": {},
   "outputs": [],
   "source": [
    "import tensorflow as tf\n",
    "import tensorflow_probability as tfp\n",
    "tfd = tfp.distributions\n",
    "tfb = tfp.bijectors"
   ]
  },
  {
   "cell_type": "code",
   "execution_count": 46,
   "metadata": {},
   "outputs": [
    {
     "data": {
      "text/plain": [
       "(array([0.53405964, 0.46594036], dtype=float32),\n",
       " array([0, 1, 1, 1, 0, 0, 0, 1, 0, 1], dtype=int32))"
      ]
     },
     "execution_count": 46,
     "metadata": {},
     "output_type": "execute_result"
    }
   ],
   "source": [
    "p1 = tfd.Uniform(name='p', low=0., high=1.).sample()\n",
    "p2 = 1 - p1\n",
    "p = tf.stack([p1, p2])\n",
    "# Categorical Assignment Variable\n",
    "var_assignment = tfd.Categorical(name='assignment', probs=p)\n",
    "assignment = var_assignment.sample(10)\n",
    "\n",
    "[ p_, assignment_ ] = evaluate([p, assignment])\n",
    "p_, assignment_"
   ]
  },
  {
   "cell_type": "code",
   "execution_count": 54,
   "metadata": {},
   "outputs": [],
   "source": [
    "var_sds = tfd.Uniform(name='sds', low=[0., 0.], high=[100., 100.])\n",
    "var_means = tfd.Normal(name='centers', loc=[120., 190.], scale=[10., 10.])\n",
    "sds = var_sds.sample()\n",
    "means = var_means.sample()\n",
    "var_assignment = tfd.Categorical(probs=tf.stack([0.4, 0.6]))\n",
    "assignments = var_assignment.sample(10)\n",
    "\n",
    "var_obs = tfd.MixtureSameFamily(\n",
    "    var_assignment,\n",
    "    tfd.Normal(loc=means, scale=sds)\n",
    ")\n",
    "obs = var_obs.sample(10)\n",
    "[ assignments_, obs_, sds_, means_ ] = evaluate([\n",
    "    assignments, obs, sds, means\n",
    "])"
   ]
  },
  {
   "cell_type": "code",
   "execution_count": 56,
   "metadata": {},
   "outputs": [
    {
     "name": "stdout",
     "output_type": "stream",
     "text": [
      "Simulated Data:  [178.92705 138.14992 173.88815 191.6725   81.86951 189.62927  92.10466\n",
      " 394.7831  232.31776 135.05682]\n",
      "Assignments:  [0 0 1 1 0 0 0 0 0 0]\n",
      "Center:  [113.64284 191.91629]\n",
      "Standard Deviation:  [47.266113 88.57577 ]\n"
     ]
    }
   ],
   "source": [
    "print('Simulated Data: ', obs_)\n",
    "print('Assignments: ', assignments_)\n",
    "print('Center: ', means_)\n",
    "print('Standard Deviation: ', sds_)"
   ]
  },
  {
   "cell_type": "code",
   "execution_count": 81,
   "metadata": {},
   "outputs": [],
   "source": [
    "def joint_log_prob(data, p1, centers, sds):\n",
    "    var_p = tfd.Uniform(name='p', low=0., high=1.)\n",
    "    p2 = 1 - p1\n",
    "    var_assignment = tfd.Categorical(tf.stack([p1, p2]))\n",
    "    var_sds = tfd.Uniform(name='sds',low=[0., 0.], high=[100., 100.])\n",
    "    var_means = tfd.Normal(name='centers', loc=[120., 190.], scale=[10., 10.])\n",
    "    var_obs = tfd.MixtureSameFamily(\n",
    "        mixture_distribution=var_assignment,\n",
    "        components_distribution=tfd.Normal(loc=centers, scale=sds)\n",
    "    )\n",
    "    \n",
    "    return (\n",
    "        var_p.log_prob(p1)\n",
    "        + var_p.log_prob(p2)\n",
    "        + tf.reduce_sum(var_obs.log_prob(data))\n",
    "        + tf.reduce_sum(var_means.log_prob(centers))\n",
    "        + tf.reduce_sum(var_sds.log_prob(sds))\n",
    "    )"
   ]
  },
  {
   "cell_type": "code",
   "execution_count": 82,
   "metadata": {},
   "outputs": [],
   "source": [
    "nsteps = 25000\n",
    "burn_in = 1000\n",
    "initial_chain_state = [\n",
    "    tf.constant(0.5, name='init_p'),\n",
    "    tf.constant([120., 190.], name='init_means'),\n",
    "    tf.constant([10., 10.], name='init_sds')\n",
    "]\n",
    "unnormalized_posterior_log_prob = lambda *args: joint_log_prob(data_, *args)"
   ]
  },
  {
   "cell_type": "code",
   "execution_count": 91,
   "metadata": {},
   "outputs": [],
   "source": [
    "step_size = tf.Variable(0.5, name='step_size', trainable=False)"
   ]
  },
  {
   "cell_type": "code",
   "execution_count": 83,
   "metadata": {},
   "outputs": [],
   "source": [
    "unconstraining_bijectors = [\n",
    "    tfp.bijectors.Identity(),       # Maps R to R.\n",
    "    tfp.bijectors.Identity(),       # Maps R to R.\n",
    "    tfp.bijectors.Identity(),       # Maps R to R.\n",
    "]"
   ]
  },
  {
   "cell_type": "code",
   "execution_count": 93,
   "metadata": {},
   "outputs": [
    {
     "name": "stderr",
     "output_type": "stream",
     "text": [
      "/usr/local/lib/python3.6/dist-packages/tensorflow_probability/python/mcmc/internal/util.py:581: UserWarning: `step_size` is not a `tf.Tensor`, Python number, or Numpy array. If this parameter is mutable (e.g., a `tf.Variable`), then the behavior implied by `store_parameters_in_results` will silently change on 2019-08-01. Please consult the docstring for `store_parameters_in_results` details and use `store_parameters_in_results=True` to silence this warning.\n",
      "  param_name))\n"
     ]
    }
   ],
   "source": [
    "hmc=tfp.mcmc.TransformedTransitionKernel(\n",
    "    inner_kernel=tfp.mcmc.HamiltonianMonteCarlo(\n",
    "        target_log_prob_fn=unnormalized_posterior_log_prob,\n",
    "        step_size=step_size, num_leapfrog_steps=3,\n",
    "        step_size_update_fn=tfp.mcmc.make_simple_step_size_update_policy(num_adaptation_steps=int(burn_in * 0.8)),\n",
    "        state_gradients_are_stopped=True),\n",
    "    bijector=unconstraining_bijectors\n",
    ")"
   ]
  },
  {
   "cell_type": "code",
   "execution_count": 94,
   "metadata": {},
   "outputs": [
    {
     "name": "stderr",
     "output_type": "stream",
     "text": [
      "/usr/local/lib/python3.6/dist-packages/tensorflow_probability/python/mcmc/sample.py:338: UserWarning: Tracing all kernel results by default is deprecated. Set the `trace_fn` argument to None (the future default value) or an explicit callback that traces the values you are interested in.\n",
      "  warnings.warn('Tracing all kernel results by default is deprecated. Set '\n"
     ]
    }
   ],
   "source": [
    "[ post_p, post_centers, post_sds ], kernel_results = tfp.mcmc.sample_chain(\n",
    "    num_results=nsteps, num_burnin_steps=burn_in, current_state=initial_chain_state,\n",
    "    kernel=hmc\n",
    ")"
   ]
  },
  {
   "cell_type": "code",
   "execution_count": 100,
   "metadata": {},
   "outputs": [
    {
     "data": {
      "text/plain": [
       "array([117.92831, 198.7684 ], dtype=float32)"
      ]
     },
     "execution_count": 100,
     "metadata": {},
     "output_type": "execute_result"
    }
   ],
   "source": [
    "evaluate(post_centers).mean(0)"
   ]
  },
  {
   "cell_type": "code",
   "execution_count": null,
   "metadata": {},
   "outputs": [],
   "source": []
  },
  {
   "cell_type": "code",
   "execution_count": null,
   "metadata": {},
   "outputs": [],
   "source": []
  },
  {
   "cell_type": "code",
   "execution_count": null,
   "metadata": {},
   "outputs": [],
   "source": []
  },
  {
   "cell_type": "code",
   "execution_count": null,
   "metadata": {},
   "outputs": [],
   "source": []
  },
  {
   "cell_type": "code",
   "execution_count": null,
   "metadata": {},
   "outputs": [],
   "source": []
  },
  {
   "cell_type": "code",
   "execution_count": null,
   "metadata": {},
   "outputs": [],
   "source": []
  },
  {
   "cell_type": "code",
   "execution_count": null,
   "metadata": {},
   "outputs": [],
   "source": []
  },
  {
   "cell_type": "code",
   "execution_count": null,
   "metadata": {},
   "outputs": [],
   "source": []
  },
  {
   "cell_type": "code",
   "execution_count": null,
   "metadata": {},
   "outputs": [],
   "source": []
  },
  {
   "cell_type": "code",
   "execution_count": null,
   "metadata": {},
   "outputs": [],
   "source": []
  },
  {
   "cell_type": "code",
   "execution_count": null,
   "metadata": {},
   "outputs": [],
   "source": []
  },
  {
   "cell_type": "code",
   "execution_count": null,
   "metadata": {},
   "outputs": [],
   "source": []
  },
  {
   "cell_type": "code",
   "execution_count": null,
   "metadata": {},
   "outputs": [],
   "source": []
  }
 ],
 "metadata": {
  "kernelspec": {
   "display_name": "Python 3",
   "language": "python",
   "name": "python3"
  },
  "language_info": {
   "codemirror_mode": {
    "name": "ipython",
    "version": 3
   },
   "file_extension": ".py",
   "mimetype": "text/x-python",
   "name": "python",
   "nbconvert_exporter": "python",
   "pygments_lexer": "ipython3",
   "version": "3.6.9"
  }
 },
 "nbformat": 4,
 "nbformat_minor": 4
}
